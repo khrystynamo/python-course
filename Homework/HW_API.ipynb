{
 "cells": [
  {
   "cell_type": "code",
   "execution_count": 10,
   "metadata": {},
   "outputs": [
    {
     "name": "stdout",
     "output_type": "stream",
     "text": [
      "['https://giphy.com/gifs/theoffice-the-office-tv-frame-toby-vyTnNTrs3wqQ0UIvwE', 'https://giphy.com/gifs/theoffice-the-office-tv-frame-toby-hyyV7pnbE0FqLNBAzs', 'https://giphy.com/gifs/the-office-mrw-d10dMmzqCYqQ0', 'https://giphy.com/gifs/espnmx-reaction-soccer-igHgzln7ibahITQU6r', 'https://giphy.com/gifs/the-office-no-steve-carell-12XMGIWtrHBl5e', 'https://giphy.com/gifs/michael-scott-KajpERDjOpMcw', 'https://giphy.com/gifs/the-office-IZhCxKe49d3by', 'https://giphy.com/gifs/7O820lbi26jrW', 'https://giphy.com/gifs/toby-high-quality-JFau5y7m9pkEU', 'https://giphy.com/gifs/ov-DLhNUTxiGsg6c', 'https://giphy.com/gifs/avengers-pietro-maximoff-1T96TRBBGYThC', 'https://giphy.com/gifs/netflix-eklUkrjT3s5C8', 'https://giphy.com/gifs/BTTF-back-to-the-future-bttf-two-9bDAsWuqBIebuceQic', 'https://giphy.com/gifs/8vUEXZA2me7vnuUvrs', 'https://giphy.com/gifs/nooo-fnf-whitty-uy1clH4mxrLbc2ppjY', 'https://giphy.com/gifs/the-office-no-michael-scott-ToMjGpx9F5ktZw8qPUQ', 'https://giphy.com/gifs/fazeclan-faze-absolutely-not-rug-H1YMguVrVeI0Xz5c8v', 'https://giphy.com/gifs/heute-show-zdf-heuteshow-olaf-scholz-yK7m53qVAIfqKkVwVj', 'https://giphy.com/gifs/latenightseth-seth-meyers-lnsm-q5KSpsbhXp3lw7HxXl', 'https://giphy.com/gifs/acorn-tv-acorntv-acorn-tv-rake-1poTBXg07NdSFhtzVp', 'https://giphy.com/gifs/CBSAllAccess-season-2-i-love-lucy-episode-28-Tg6fSeh25F1b9dRCuL', 'https://giphy.com/gifs/agt-nbc-season-16-americas-got-talent-DDtc2pqbHPfdgUTh8d', 'https://giphy.com/gifs/acorn-tv-oh-no-nooo-god-xX7u6wG4g1bxB5wWfz', 'https://giphy.com/gifs/cbc-schittscreek-schitts-creek-TEYf59XlSZkvrgNyUI', 'https://giphy.com/gifs/STRAPPEDENT-oh-lord-druski-meme-9jh1wJ23dPUOG9JIeU', 'https://giphy.com/gifs/GifGari-please-no-god-go-fNMVOaNSujST2cwRHD', 'https://giphy.com/gifs/star-trek-swear-sweartrek-WpO8tMTDJ7xPSVVYyZ', 'https://giphy.com/gifs/FilmRiot-no-EdAO3mD4Fc5x63O2Wa', 'https://giphy.com/gifs/no-absolutely-not-benjammins-F0E9odYTHNCoyfa5NR', 'https://giphy.com/gifs/DAFTrucksNV-lARJmCOVgQTOycft3j', 'https://giphy.com/gifs/spacechickensinspace-space-chickens-spacechickens-chicken-1O1bHi1zWHVU3kB0Se', 'https://giphy.com/gifs/espnmx-reaction-football-1dc6j627Z6cF05xdNL', 'https://giphy.com/gifs/loof-and-timmy-oh-crumbs-grtLXNKvEXmxxfpO14', 'https://giphy.com/gifs/ShalitaGrant-no-why-whyyy-3gNlzBLFrGrBEfQJAN', 'https://giphy.com/gifs/please-nooo-peekasso-YEpydsTdO1uHbLE1IJ', 'https://giphy.com/gifs/ol-no-angry-god-7Sx8QDRbFYGnQ4uTFT', 'https://giphy.com/gifs/therokuchannel-roku-the-channel-doomlands-ay20QpIyqRoQXl8sl1', 'https://giphy.com/gifs/dnd-dd-forgeoflore-6fcnbCfTbwI3UwBgVo', 'https://giphy.com/gifs/dnd-dd-forgeoflore-V3D20CQYc5HOJ33ohT', 'https://giphy.com/gifs/dnd-dd-forgeoflore-ELvcY6OLZYk0cdrQNt', 'https://giphy.com/gifs/davisschulz-stop-enough-genug-tFyzCKIhJauxcUCxOh', 'https://giphy.com/gifs/disappointed-sad-fan-mad-Rm73hUz5NV5KGe76Zn', 'https://giphy.com/gifs/dnd-dd-forgeoflore-Bn0BuuvjDOlwKfQEVp', 'https://giphy.com/gifs/usfigureskating-figure-skating-team-usa-usfs-ujvWpR2EM2eU7TStsR', 'https://giphy.com/gifs/MenInKiltsSTARZ-starz-106-men-in-kilts-Vg9zRSQ8ytLZZe9z1J', 'https://giphy.com/gifs/EverythingsTrash-everythings-trash-everything-is-everythingstrash-8uCfuvXroKTVNrmyej', 'https://giphy.com/gifs/paramountplus-beavis-and-butthead-butt-head-Fe1BWr0MnLueeb4yEk', 'https://giphy.com/gifs/bdhcollective-eramelinda-boquer-bowc-mTByXWGu5B7r7xoMTD', 'https://giphy.com/gifs/please-praying-luzcgonzalez-h86MSF9TB3UaEREhsv', 'https://giphy.com/gifs/fallontonight-tonight-show-jimmyfallon-tonightshow-T31V5dH6JuRVYecrLf']\n"
     ]
    }
   ],
   "source": [
    "import requests\n",
    "\n",
    "giphy_url = 'https://api.giphy.com/v1/gifs/search'\n",
    "my_token = 'hLeam0TgbohxYOIjOp2QceQejzXEGtCM'\n",
    "prompt = 'God please no!'\n",
    "\n",
    "resp = requests.get(giphy_url, params={'api_key' : my_token, 'q' : prompt})\n",
    "\n",
    "data =  resp.json()['data']\n",
    "gif_urls = list(map(lambda x: x['url'], data))\n",
    "print(gif_urls)"
   ]
  }
 ],
 "metadata": {
  "kernelspec": {
   "display_name": "Python 3",
   "language": "python",
   "name": "python3"
  },
  "language_info": {
   "codemirror_mode": {
    "name": "ipython",
    "version": 3
   },
   "file_extension": ".py",
   "mimetype": "text/x-python",
   "name": "python",
   "nbconvert_exporter": "python",
   "pygments_lexer": "ipython3",
   "version": "3.11.9"
  }
 },
 "nbformat": 4,
 "nbformat_minor": 2
}
