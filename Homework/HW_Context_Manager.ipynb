{
 "cells": [
  {
   "cell_type": "code",
   "execution_count": 19,
   "metadata": {},
   "outputs": [],
   "source": [
    "import random\n",
    "with open(\"summary.txt\", 'a') as summary_file:\n",
    "    for i in range(ord('A'), ord('Z')+1):\n",
    "        filename = chr(i) + \".txt\" \n",
    "        with open(filename, 'a') as file:\n",
    "            random_number = random.randint(1, 100)\n",
    "            file.write(str(random_number) + '\\n')\n",
    "            summary_file.write(f\"{filename}: {random_number}\\n\")"
   ]
  },
  {
   "cell_type": "code",
   "execution_count": 20,
   "metadata": {},
   "outputs": [],
   "source": [
    "with open('file_with_lower.txt', \"w\") as file_with_lower:\n",
    "    file_with_lower.write(\"Lorem ipsum dolor sit amet, consectetur adipiscing elit, sed do eiusmod tempor incididunt\"\n",
    "                          \"ut labore et dolore magna aliqua. Ut enim ad minim veniam, quis nostrud exercitation ullamco\"\n",
    "                          \"laboris nisi ut aliquip ex ea commodo consequat. Duis aute irure dolor in reprehenderit in voluptate\" \n",
    "                          \"velit esse cillum dolore eu fugiat nulla pariatur. Excepteur sint occaecat cupidatat non proident,\" \n",
    "                          \"sunt in culpa qui officia deserunt mollit anim id est laborum\")\n",
    "\n",
    "with open('file_with_lower.txt', \"r\") as file_with_lower:\n",
    "    content = file_with_lower.read()\n",
    "\n",
    "with open('file_with_upper.txt', \"w\") as file_with_upper:\n",
    "    file_with_upper.write(content.upper())"
   ]
  },
  {
   "cell_type": "code",
   "execution_count": 73,
   "metadata": {},
   "outputs": [],
   "source": [
    "import csv\n",
    "\n",
    "players = ['Josh', 'Luke', 'Kate', 'Mark','Mary']\n",
    "\n",
    "def game(players, rounds, filename):\n",
    "    results = []\n",
    "\n",
    "    for _ in range(rounds):\n",
    "        for player in players:\n",
    "            score = random.randint(0, 1000)\n",
    "            results.append((player, score))\n",
    "            \n",
    "    with open('results.csv', 'w') as results_of_game:\n",
    "        writer = csv.writer(results_of_game)\n",
    "        writer.writerow(['Player name', 'Score'])\n",
    "        writer.writerows(results)\n",
    "          \n",
    "\n",
    "game(players, 100, 'results.csv')\n"
   ]
  },
  {
   "cell_type": "code",
   "execution_count": 81,
   "metadata": {},
   "outputs": [],
   "source": [
    "high_scores = {}\n",
    "\n",
    "def find_high_scores(input_file, output_file):\n",
    "    with open('results.csv', mode='r') as highest_results:\n",
    "        reader = csv.reader(highest_results)\n",
    "        next(reader)\n",
    "\n",
    "        for row in reader:\n",
    "            player, score = row[0], int(row[1])\n",
    "            if player not in high_scores or score > high_scores[player]:\n",
    "                high_scores[player] = score\n",
    "    scores_list = list(high_scores.items())\n",
    "\n",
    "    def sort_by_score(item):\n",
    "        return item[1]\n",
    "    \n",
    "    sorted_scores = sorted(scores_list, key=sort_by_score, reverse=True)\n",
    "\n",
    "    with open('high_scores.csv', 'w') as csvfile:\n",
    "        writer = csv.writer(csvfile)\n",
    "        writer.writerow(['Player name', 'Highest Score'])\n",
    "        writer.writerows(sorted_scores)\n",
    "    \n",
    "find_high_scores('results.csv', 'high_scores.csv')            \n",
    "\n"
   ]
  }
 ],
 "metadata": {
  "kernelspec": {
   "display_name": "Python 3",
   "language": "python",
   "name": "python3"
  },
  "language_info": {
   "codemirror_mode": {
    "name": "ipython",
    "version": 3
   },
   "file_extension": ".py",
   "mimetype": "text/x-python",
   "name": "python",
   "nbconvert_exporter": "python",
   "pygments_lexer": "ipython3",
   "version": "3.11.9"
  }
 },
 "nbformat": 4,
 "nbformat_minor": 2
}
