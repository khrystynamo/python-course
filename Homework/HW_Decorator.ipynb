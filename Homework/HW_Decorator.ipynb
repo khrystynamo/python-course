{
 "cells": [
  {
   "cell_type": "markdown",
   "metadata": {},
   "source": [
    "1. Write a decorator that ensures a function is only called by users with a specific role. Each function should have an user_type with a string type in kwargs."
   ]
  },
  {
   "cell_type": "markdown",
   "metadata": {},
   "source": [
    "@is_admin\n",
    "def show_customer_receipt(user_type: str):\n",
    "    # Some very dangerous operation\n",
    "\n",
    "show_customer_receipt(user_type='user')\n",
    "> ValueError: Permission denied\n",
    "\n",
    "show_customer_receipt(user_type='admin')\n",
    "> function pass as it should be"
   ]
  },
  {
   "cell_type": "code",
   "execution_count": 15,
   "metadata": {},
   "outputs": [
    {
     "name": "stdout",
     "output_type": "stream",
     "text": [
      "{'Kate Middlton': 'sjnmn340g'}\n"
     ]
    }
   ],
   "source": [
    "def is_admin(func):\n",
    "    def wrapper(*args, **kwargs):\n",
    "        user_type = kwargs.get('user_type')\n",
    "        if user_type == 'admin':\n",
    "            return func(*args, **kwargs)\n",
    "        else:\n",
    "            raise ValueError('Permission denied')\n",
    "    return wrapper\n",
    "\n",
    "@is_admin\n",
    "def show_customer_receipt(user_type: str):\n",
    "    users_passwords = {'Kate Middlton': 'sjnmn340g'}\n",
    "    return users_passwords\n",
    "\n",
    "results = show_customer_receipt(user_type = 'admin')\n",
    "print(results)\n"
   ]
  },
  {
   "cell_type": "markdown",
   "metadata": {},
   "source": [
    "2. Write a decorator that wraps a function in a try-except block and prints an error if any type of error has happened. "
   ]
  },
  {
   "cell_type": "markdown",
   "metadata": {},
   "source": [
    "@catch_errors\n",
    "def some_function_with_risky_operation(data):\n",
    "    print(data['key'])\n",
    "\n",
    "\n",
    "some_function_with_risky_operation({'foo': 'bar'})\n",
    "> Found 1 error during execution of your function: KeyError no such key as foo\n",
    "\n",
    "some_function_with_risky_operation({'key': 'bar'})\n",
    "> bar\n",
    "\n"
   ]
  },
  {
   "cell_type": "code",
   "execution_count": 29,
   "metadata": {},
   "outputs": [
    {
     "name": "stdout",
     "output_type": "stream",
     "text": [
      "5.0\n",
      "Error\n",
      "None\n"
     ]
    }
   ],
   "source": [
    "def catch_errors(func):\n",
    "    def wrapper(*args, **kwargs):\n",
    "        try:\n",
    "            return func(*args, **kwargs)\n",
    "        except Exception as error_type:\n",
    "            print('Error')\n",
    "    return wrapper\n",
    "\n",
    "@catch_errors\n",
    "def divide(a, b):\n",
    "    return a / b\n",
    "\n",
    "print(divide(10, 2))\n",
    "print(divide(10, 0)) \n",
    "\n",
    "            "
   ]
  },
  {
   "cell_type": "code",
   "execution_count": 30,
   "metadata": {},
   "outputs": [],
   "source": [
    "@catch_errors\n",
    "def some_function_with_risky_operation(data):\n",
    "    print(data['key'])"
   ]
  },
  {
   "cell_type": "code",
   "execution_count": 31,
   "metadata": {},
   "outputs": [
    {
     "name": "stdout",
     "output_type": "stream",
     "text": [
      "Error\n",
      "bar\n"
     ]
    }
   ],
   "source": [
    "some_function_with_risky_operation({'foo': 'bar'})\n",
    "#Found 1 error during execution of your function: KeyError no such key as foo\n",
    "\n",
    "some_function_with_risky_operation({'key': 'bar'})\n",
    "#bar"
   ]
  }
 ],
 "metadata": {
  "kernelspec": {
   "display_name": "Python 3",
   "language": "python",
   "name": "python3"
  },
  "language_info": {
   "codemirror_mode": {
    "name": "ipython",
    "version": 3
   },
   "file_extension": ".py",
   "mimetype": "text/x-python",
   "name": "python",
   "nbconvert_exporter": "python",
   "pygments_lexer": "ipython3",
   "version": "3.11.9"
  }
 },
 "nbformat": 4,
 "nbformat_minor": 2
}
